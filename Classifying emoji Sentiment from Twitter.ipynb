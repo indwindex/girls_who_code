{
 "cells": [
  {
   "cell_type": "markdown",
   "metadata": {},
   "source": [
    "# The Motivation\n",
    "* How people feel about a product can tell us that the sales of a company are going to increase.\n",
    "* Nintendo's stock price over the last 20 days:\n",
    "<img src=\"http://localhost:8888/files/girls_who_code/images/nintendo_gip.PNG\" width=\"500\">\n"
   ]
  },
  {
   "cell_type": "markdown",
   "metadata": {},
   "source": [
    "# Analyzing sentiment in Social Media\n",
    "\n",
    "## How can we tell how people feel?\n",
    " \n",
    "Teach computers how to read social media posts.\n",
    "\n",
    "## What does a tweet consist of?\n",
    "<blockquote class=\"twitter-tweet\" data-lang=\"en\"><p lang=\"en\" dir=\"ltr\">The word is given!! <a href=\"https://twitter.com/hashtag/StarTrekBeyond?src=hash\">#StarTrekBeyond</a> is a blast! Great fun, action, humor! A throwback to The Original Series! LOVE! <a href=\"https://t.co/pTkzFdIJ1p\">pic.twitter.com/pTkzFdIJ1p</a></p>&mdash; Scott Mantz (@MovieMantz) <a href=\"https://twitter.com/MovieMantz/status/753458772337528832\">July 14, 2016</a></blockquote>\n",
    "<script async src=\"//platform.twitter.com/widgets.js\" charset=\"utf-8\"></script>\n",
    "<blockquote class=\"twitter-tweet\" data-lang=\"en\"><p lang=\"und\" dir=\"ltr\"><a href=\"https://twitter.com/hashtag/NotBadForAGirlWithNoTalent?src=hash\">#NotBadForAGirlWithNoTalent</a> 😍😜</p>&mdash; Kim Kardashian West (@KimKardashian) <a href=\"https://twitter.com/KimKardashian/status/752522458054307841\">July 11, 2016</a></blockquote>\n",
    "<script async src=\"//platform.twitter.com/widgets.js\" charset=\"utf-8\"></script>\n",
    "<blockquote class=\"twitter-tweet\" data-lang=\"en\"><p lang=\"und\" dir=\"ltr\">😂 <a href=\"https://t.co/jlAdVmbQxd\">https://t.co/jlAdVmbQxd</a></p>&mdash; Lin-Manuel Miranda (@Lin_Manuel) <a href=\"https://twitter.com/Lin_Manuel/status/750034354307497985\">July 4, 2016</a></blockquote>\n",
    "<script async src=\"//platform.twitter.com/widgets.js\" charset=\"utf-8\"></script>\n",
    "\n",
    "* Positive and Negative sentiment words \n",
    "* Pictures \n",
    "* Links\n",
    "* Hashtags \n",
    "* Emoji\n",
    " \n"
   ]
  },
  {
   "cell_type": "markdown",
   "metadata": {},
   "source": [
    "## Word2Vec Algorithm\n",
    "* Invented by Google in 2013!\n",
    "* Start with a big corpus of data (like Twitter!)\n",
    "* Turn a word (or emoji) into a vector based on what words it appears together with\n",
    "* Figure out how similar the word vectors are\n",
    "* Show me what vectors are the most similar to my word"
   ]
  },
  {
   "cell_type": "markdown",
   "metadata": {},
   "source": [
    "## Cosine Similarity\n",
    "* Cosine similarity-- is measured with: $$cos\\theta = \\frac{a \\cdot b}{||a|| \\cdot ||b||}$$\n",
    "* Quick trig review: <img src=\"http://localhost:8888/files/girls_who_code/images/trig_functions2.png\" width=\"300\">\n",
    "* Example from Spotify using cosine similarity to compare artists\n",
    "<img src=\"http://localhost:8888/files/girls_who_code/images/spotify.png\" width=\"500\">"
   ]
  },
  {
   "cell_type": "markdown",
   "metadata": {},
   "source": [
    "## Using Word2Vec to classify Emoji\n",
    "* How do we classify emojis from twitter as positive and negative?\n",
    "* Start with a seed: <i class=\"em em-smile\"></i>"
   ]
  },
  {
   "cell_type": "code",
   "execution_count": 3,
   "metadata": {
    "collapsed": false
   },
   "outputs": [
    {
     "data": {
      "text/html": [
       "<script>\n",
       "code_show=true; \n",
       "function code_toggle() {\n",
       " if (code_show){\n",
       " $('div.input').hide();\n",
       " } else {\n",
       " $('div.input').show();\n",
       " }\n",
       " code_show = !code_show\n",
       "} \n",
       "$( document ).ready(code_toggle);\n",
       "</script>\n",
       "<form action=\"javascript:code_toggle()\"><input type=\"submit\" value=\"\"></form>"
      ],
      "text/plain": [
       "<IPython.core.display.HTML object>"
      ]
     },
     "execution_count": 3,
     "metadata": {},
     "output_type": "execute_result"
    }
   ],
   "source": [
    "from IPython.display import HTML\n",
    "\n",
    "HTML('''<script>\n",
    "code_show=true; \n",
    "function code_toggle() {\n",
    " if (code_show){\n",
    " $('div.input').hide();\n",
    " } else {\n",
    " $('div.input').show();\n",
    " }\n",
    " code_show = !code_show\n",
    "} \n",
    "$( document ).ready(code_toggle);\n",
    "</script>\n",
    "<form action=\"javascript:code_toggle()\"><input type=\"submit\" value=\"\"></form>''')"
   ]
  },
  {
   "cell_type": "code",
   "execution_count": 10,
   "metadata": {
    "collapsed": false
   },
   "outputs": [
    {
     "name": "stdout",
     "output_type": "stream",
     "text": [
      "Positive seed: 😄, 😊\n",
      "Negative seed: 😢, 😭\n"
     ]
    }
   ],
   "source": [
    "import emoji\n",
    "print(emoji.emojize('Positive seed: :smile:, :blush:', use_aliases=True))\n",
    "print(emoji.emojize('Negative seed: :cry:, :sob:', use_aliases=True))"
   ]
  },
  {
   "cell_type": "markdown",
   "metadata": {},
   "source": [
    "* See the attached notebook"
   ]
  }
 ],
 "metadata": {
  "kernelspec": {
   "display_name": "Python 2",
   "language": "python",
   "name": "python2"
  },
  "language_info": {
   "codemirror_mode": {
    "name": "ipython",
    "version": 2
   },
   "file_extension": ".py",
   "mimetype": "text/x-python",
   "name": "python",
   "nbconvert_exporter": "python",
   "pygments_lexer": "ipython2",
   "version": "2.7.9"
  }
 },
 "nbformat": 4,
 "nbformat_minor": 0
}
